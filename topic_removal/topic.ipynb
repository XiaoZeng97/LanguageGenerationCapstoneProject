{
 "cells": [
  {
   "cell_type": "code",
   "execution_count": 22,
   "metadata": {},
   "outputs": [],
   "source": [
    "import nltk\n",
    "from collections import defaultdict\n",
    "import pandas as pd"
   ]
  },
  {
   "cell_type": "code",
   "execution_count": 23,
   "metadata": {},
   "outputs": [],
   "source": [
    "from nltk.corpus import stopwords"
   ]
  },
  {
   "cell_type": "code",
   "execution_count": 24,
   "metadata": {},
   "outputs": [],
   "source": [
    "from nltk.tokenize import TweetTokenizer"
   ]
  },
  {
   "cell_type": "code",
   "execution_count": 25,
   "metadata": {},
   "outputs": [],
   "source": [
    "stop_words = set(stopwords.words('english'))"
   ]
  },
  {
   "cell_type": "code",
   "execution_count": null,
   "metadata": {},
   "outputs": [],
   "source": []
  },
  {
   "cell_type": "code",
   "execution_count": 26,
   "metadata": {},
   "outputs": [],
   "source": [
    "df = pd.read_csv(\"../regex_filtering/after_regex.csv\", index_col = 0, low_memory = False)"
   ]
  },
  {
   "cell_type": "code",
   "execution_count": 44,
   "metadata": {},
   "outputs": [],
   "source": [
    "tknzr = TweetTokenizer()\n",
    "topk = 1\n",
    "def remove_topic(string):\n",
    "    tokens = tknzr.tokenize(string)\n",
    "    word_frequency = defaultdict(int)\n",
    "    for token in tokens:\n",
    "        if token not in stop_words:\n",
    "            word_frequency[token]+=1\n",
    "    \n",
    "    top_words = [k for k, v in sorted(word_frequency.items(), key=lambda item: item[1], reverse= True)]\n",
    "   \n",
    "    topics = set([word for word in top_words[:topk] if word_frequency[word]>1])\n",
    "    new_tokens = []\n",
    "    for token in tokens:\n",
    "        if token in topics:\n",
    "            new_tokens.append(\"TOPIC\")\n",
    "        else:\n",
    "            new_tokens.append(token)\n",
    "    return \" \".join(new_tokens)"
   ]
  },
  {
   "cell_type": "code",
   "execution_count": 45,
   "metadata": {},
   "outputs": [
    {
     "data": {
      "text/plain": [
       "'the the the haha i love haha TOPIC TOPIC TOPIC'"
      ]
     },
     "execution_count": 45,
     "metadata": {},
     "output_type": "execute_result"
    }
   ],
   "source": [
    "remove_topic(\"the the the haha i love haha xi xi xi\")"
   ]
  },
  {
   "cell_type": "code",
   "execution_count": 46,
   "metadata": {},
   "outputs": [
    {
     "data": {
      "text/plain": [
       "'the the the haha i love'"
      ]
     },
     "execution_count": 46,
     "metadata": {},
     "output_type": "execute_result"
    }
   ],
   "source": [
    "remove_topic(\"the the the haha i love\") # this post has no topic"
   ]
  },
  {
   "cell_type": "code",
   "execution_count": 47,
   "metadata": {},
   "outputs": [],
   "source": [
    "df[\"body\"] = df[\"body\"].apply(remove_topic)"
   ]
  },
  {
   "cell_type": "code",
   "execution_count": 48,
   "metadata": {},
   "outputs": [
    {
     "data": {
      "text/html": [
       "<div>\n",
       "<style scoped>\n",
       "    .dataframe tbody tr th:only-of-type {\n",
       "        vertical-align: middle;\n",
       "    }\n",
       "\n",
       "    .dataframe tbody tr th {\n",
       "        vertical-align: top;\n",
       "    }\n",
       "\n",
       "    .dataframe thead th {\n",
       "        text-align: right;\n",
       "    }\n",
       "</style>\n",
       "<table border=\"1\" class=\"dataframe\">\n",
       "  <thead>\n",
       "    <tr style=\"text-align: right;\">\n",
       "      <th></th>\n",
       "      <th>body</th>\n",
       "      <th>author</th>\n",
       "      <th>subreddit</th>\n",
       "      <th>_replies</th>\n",
       "      <th>_submission</th>\n",
       "      <th>awarders</th>\n",
       "      <th>total_awards_received</th>\n",
       "      <th>approved_at_utc</th>\n",
       "      <th>link_title</th>\n",
       "      <th>mod_reason_by</th>\n",
       "      <th>...</th>\n",
       "      <th>subreddit_name_prefixed</th>\n",
       "      <th>controversiality</th>\n",
       "      <th>locked</th>\n",
       "      <th>author_flair_background_color</th>\n",
       "      <th>collapsed_because_crowd_control</th>\n",
       "      <th>mod_reports</th>\n",
       "      <th>quarantine</th>\n",
       "      <th>subreddit_type</th>\n",
       "      <th>ups</th>\n",
       "      <th>_fetched</th>\n",
       "    </tr>\n",
       "  </thead>\n",
       "  <tbody>\n",
       "    <tr>\n",
       "      <td>0</td>\n",
       "      <td>Oh TOPIC we all have those guilty pleasures ! ...</td>\n",
       "      <td>dmur726</td>\n",
       "      <td>books</td>\n",
       "      <td>[]</td>\n",
       "      <td>NaN</td>\n",
       "      <td>[]</td>\n",
       "      <td>0</td>\n",
       "      <td>NaN</td>\n",
       "      <td>What fictional character have you met while re...</td>\n",
       "      <td>NaN</td>\n",
       "      <td>...</td>\n",
       "      <td>r/books</td>\n",
       "      <td>0</td>\n",
       "      <td>False</td>\n",
       "      <td>NaN</td>\n",
       "      <td>NaN</td>\n",
       "      <td>[]</td>\n",
       "      <td>False</td>\n",
       "      <td>public</td>\n",
       "      <td>2</td>\n",
       "      <td>True</td>\n",
       "    </tr>\n",
       "    <tr>\n",
       "      <td>1</td>\n",
       "      <td>I agree with you The really sad thing is that ...</td>\n",
       "      <td>dmur726</td>\n",
       "      <td>tifu</td>\n",
       "      <td>[]</td>\n",
       "      <td>NaN</td>\n",
       "      <td>[]</td>\n",
       "      <td>0</td>\n",
       "      <td>NaN</td>\n",
       "      <td>TIFU by calling the dog biscuits \"cookies\"</td>\n",
       "      <td>NaN</td>\n",
       "      <td>...</td>\n",
       "      <td>r/tifu</td>\n",
       "      <td>0</td>\n",
       "      <td>False</td>\n",
       "      <td>NaN</td>\n",
       "      <td>NaN</td>\n",
       "      <td>[]</td>\n",
       "      <td>False</td>\n",
       "      <td>public</td>\n",
       "      <td>3</td>\n",
       "      <td>True</td>\n",
       "    </tr>\n",
       "    <tr>\n",
       "      <td>2</td>\n",
       "      <td>You are right TOPIC and we didn t even think a...</td>\n",
       "      <td>dmur726</td>\n",
       "      <td>tifu</td>\n",
       "      <td>[]</td>\n",
       "      <td>NaN</td>\n",
       "      <td>[]</td>\n",
       "      <td>0</td>\n",
       "      <td>NaN</td>\n",
       "      <td>TIFU by calling the dog biscuits \"cookies\"</td>\n",
       "      <td>NaN</td>\n",
       "      <td>...</td>\n",
       "      <td>r/tifu</td>\n",
       "      <td>0</td>\n",
       "      <td>False</td>\n",
       "      <td>NaN</td>\n",
       "      <td>NaN</td>\n",
       "      <td>[]</td>\n",
       "      <td>False</td>\n",
       "      <td>public</td>\n",
       "      <td>3</td>\n",
       "      <td>True</td>\n",
       "    </tr>\n",
       "    <tr>\n",
       "      <td>3</td>\n",
       "      <td>Thank you TOPIC She was one if those one in a ...</td>\n",
       "      <td>dmur726</td>\n",
       "      <td>tifu</td>\n",
       "      <td>[]</td>\n",
       "      <td>NaN</td>\n",
       "      <td>[]</td>\n",
       "      <td>0</td>\n",
       "      <td>NaN</td>\n",
       "      <td>TIFU by calling the dog biscuits \"cookies\"</td>\n",
       "      <td>NaN</td>\n",
       "      <td>...</td>\n",
       "      <td>r/tifu</td>\n",
       "      <td>0</td>\n",
       "      <td>False</td>\n",
       "      <td>NaN</td>\n",
       "      <td>NaN</td>\n",
       "      <td>[]</td>\n",
       "      <td>False</td>\n",
       "      <td>public</td>\n",
       "      <td>2</td>\n",
       "      <td>True</td>\n",
       "    </tr>\n",
       "    <tr>\n",
       "      <td>4</td>\n",
       "      <td>Huh So he is that guy that you would TOPIC to ...</td>\n",
       "      <td>dmur726</td>\n",
       "      <td>books</td>\n",
       "      <td>[]</td>\n",
       "      <td>NaN</td>\n",
       "      <td>[]</td>\n",
       "      <td>0</td>\n",
       "      <td>NaN</td>\n",
       "      <td>What fictional character have you met while re...</td>\n",
       "      <td>NaN</td>\n",
       "      <td>...</td>\n",
       "      <td>r/books</td>\n",
       "      <td>0</td>\n",
       "      <td>False</td>\n",
       "      <td>NaN</td>\n",
       "      <td>NaN</td>\n",
       "      <td>[]</td>\n",
       "      <td>False</td>\n",
       "      <td>public</td>\n",
       "      <td>2</td>\n",
       "      <td>True</td>\n",
       "    </tr>\n",
       "  </tbody>\n",
       "</table>\n",
       "<p>5 rows × 72 columns</p>\n",
       "</div>"
      ],
      "text/plain": [
       "                                                body   author subreddit  \\\n",
       "0  Oh TOPIC we all have those guilty pleasures ! ...  dmur726     books   \n",
       "1  I agree with you The really sad thing is that ...  dmur726      tifu   \n",
       "2  You are right TOPIC and we didn t even think a...  dmur726      tifu   \n",
       "3  Thank you TOPIC She was one if those one in a ...  dmur726      tifu   \n",
       "4  Huh So he is that guy that you would TOPIC to ...  dmur726     books   \n",
       "\n",
       "  _replies  _submission awarders  total_awards_received  approved_at_utc  \\\n",
       "0       []          NaN       []                      0              NaN   \n",
       "1       []          NaN       []                      0              NaN   \n",
       "2       []          NaN       []                      0              NaN   \n",
       "3       []          NaN       []                      0              NaN   \n",
       "4       []          NaN       []                      0              NaN   \n",
       "\n",
       "                                          link_title  mod_reason_by  ...  \\\n",
       "0  What fictional character have you met while re...            NaN  ...   \n",
       "1         TIFU by calling the dog biscuits \"cookies\"            NaN  ...   \n",
       "2         TIFU by calling the dog biscuits \"cookies\"            NaN  ...   \n",
       "3         TIFU by calling the dog biscuits \"cookies\"            NaN  ...   \n",
       "4  What fictional character have you met while re...            NaN  ...   \n",
       "\n",
       "   subreddit_name_prefixed controversiality  locked  \\\n",
       "0                  r/books                0   False   \n",
       "1                   r/tifu                0   False   \n",
       "2                   r/tifu                0   False   \n",
       "3                   r/tifu                0   False   \n",
       "4                  r/books                0   False   \n",
       "\n",
       "  author_flair_background_color collapsed_because_crowd_control  mod_reports  \\\n",
       "0                           NaN                             NaN           []   \n",
       "1                           NaN                             NaN           []   \n",
       "2                           NaN                             NaN           []   \n",
       "3                           NaN                             NaN           []   \n",
       "4                           NaN                             NaN           []   \n",
       "\n",
       "  quarantine  subreddit_type ups  _fetched  \n",
       "0      False          public   2      True  \n",
       "1      False          public   3      True  \n",
       "2      False          public   3      True  \n",
       "3      False          public   2      True  \n",
       "4      False          public   2      True  \n",
       "\n",
       "[5 rows x 72 columns]"
      ]
     },
     "execution_count": 48,
     "metadata": {},
     "output_type": "execute_result"
    }
   ],
   "source": [
    "df.head()"
   ]
  },
  {
   "cell_type": "code",
   "execution_count": 50,
   "metadata": {},
   "outputs": [],
   "source": [
    "df.to_csv('after_top1_removal.csv')"
   ]
  },
  {
   "cell_type": "code",
   "execution_count": null,
   "metadata": {},
   "outputs": [],
   "source": []
  }
 ],
 "metadata": {
  "kernelspec": {
   "display_name": "Python 3",
   "language": "python",
   "name": "python3"
  },
  "language_info": {
   "codemirror_mode": {
    "name": "ipython",
    "version": 3
   },
   "file_extension": ".py",
   "mimetype": "text/x-python",
   "name": "python",
   "nbconvert_exporter": "python",
   "pygments_lexer": "ipython3",
   "version": "3.7.4"
  }
 },
 "nbformat": 4,
 "nbformat_minor": 2
}

{
 "cells": [
  {
   "cell_type": "code",
   "execution_count": 1,
   "metadata": {},
   "outputs": [],
   "source": [
    "import pandas as pd\n",
    "import re\n",
    "import nltk\n",
    "from nltk.tokenize import TweetTokenizer"
   ]
  },
  {
   "cell_type": "code",
   "execution_count": 2,
   "metadata": {},
   "outputs": [],
   "source": [
    "df = pd.read_csv(\"../data/raw_comments_large.csv\", index_col = 0, low_memory = False)"
   ]
  },
  {
   "cell_type": "code",
   "execution_count": 3,
   "metadata": {},
   "outputs": [],
   "source": [
    "df = df[['body', 'subreddit','author']]"
   ]
  },
  {
   "cell_type": "code",
   "execution_count": 4,
   "metadata": {},
   "outputs": [
    {
     "data": {
      "text/html": [
       "<div>\n",
       "<style scoped>\n",
       "    .dataframe tbody tr th:only-of-type {\n",
       "        vertical-align: middle;\n",
       "    }\n",
       "\n",
       "    .dataframe tbody tr th {\n",
       "        vertical-align: top;\n",
       "    }\n",
       "\n",
       "    .dataframe thead th {\n",
       "        text-align: right;\n",
       "    }\n",
       "</style>\n",
       "<table border=\"1\" class=\"dataframe\">\n",
       "  <thead>\n",
       "    <tr style=\"text-align: right;\">\n",
       "      <th></th>\n",
       "      <th>body</th>\n",
       "      <th>subreddit</th>\n",
       "      <th>author</th>\n",
       "    </tr>\n",
       "  </thead>\n",
       "  <tbody>\n",
       "    <tr>\n",
       "      <td>0</td>\n",
       "      <td>I thought this was already the case? Had it be...</td>\n",
       "      <td>changemyview</td>\n",
       "      <td>dublea</td>\n",
       "    </tr>\n",
       "    <tr>\n",
       "      <td>1</td>\n",
       "      <td>The original post had the moratorum lasting un...</td>\n",
       "      <td>changemyview</td>\n",
       "      <td>Ansuz07</td>\n",
       "    </tr>\n",
       "    <tr>\n",
       "      <td>2</td>\n",
       "      <td>Technically, the H1N1 pandemic of 2009 was ong...</td>\n",
       "      <td>changemyview</td>\n",
       "      <td>scott60561</td>\n",
       "    </tr>\n",
       "    <tr>\n",
       "      <td>3</td>\n",
       "      <td>The WHO declared an [end of the H1N1 pandemic]...</td>\n",
       "      <td>changemyview</td>\n",
       "      <td>SaxonySam</td>\n",
       "    </tr>\n",
       "    <tr>\n",
       "      <td>4</td>\n",
       "      <td>Thank you for providing information with sourc...</td>\n",
       "      <td>changemyview</td>\n",
       "      <td>epmuscle</td>\n",
       "    </tr>\n",
       "    <tr>\n",
       "      <td>...</td>\n",
       "      <td>...</td>\n",
       "      <td>...</td>\n",
       "      <td>...</td>\n",
       "    </tr>\n",
       "    <tr>\n",
       "      <td>318296</td>\n",
       "      <td>Clearly you just have shite taste buds or poor...</td>\n",
       "      <td>changemyview</td>\n",
       "      <td>apotoftrees</td>\n",
       "    </tr>\n",
       "    <tr>\n",
       "      <td>318297</td>\n",
       "      <td>Even if you take ability out of it, I can cook...</td>\n",
       "      <td>changemyview</td>\n",
       "      <td>Dheorl</td>\n",
       "    </tr>\n",
       "    <tr>\n",
       "      <td>318298</td>\n",
       "      <td>No restraunt ive ever been to makes a 5 cheese...</td>\n",
       "      <td>changemyview</td>\n",
       "      <td>Kingalece</td>\n",
       "    </tr>\n",
       "    <tr>\n",
       "      <td>318299</td>\n",
       "      <td>How do you make lasagna with no meat? That’s n...</td>\n",
       "      <td>changemyview</td>\n",
       "      <td>Cockwombles</td>\n",
       "    </tr>\n",
       "    <tr>\n",
       "      <td>318300</td>\n",
       "      <td>So like, this is false on it's face unless you...</td>\n",
       "      <td>changemyview</td>\n",
       "      <td>sailorbrendan</td>\n",
       "    </tr>\n",
       "  </tbody>\n",
       "</table>\n",
       "<p>301342 rows × 3 columns</p>\n",
       "</div>"
      ],
      "text/plain": [
       "                                                     body     subreddit  \\\n",
       "0       I thought this was already the case? Had it be...  changemyview   \n",
       "1       The original post had the moratorum lasting un...  changemyview   \n",
       "2       Technically, the H1N1 pandemic of 2009 was ong...  changemyview   \n",
       "3       The WHO declared an [end of the H1N1 pandemic]...  changemyview   \n",
       "4       Thank you for providing information with sourc...  changemyview   \n",
       "...                                                   ...           ...   \n",
       "318296  Clearly you just have shite taste buds or poor...  changemyview   \n",
       "318297  Even if you take ability out of it, I can cook...  changemyview   \n",
       "318298  No restraunt ive ever been to makes a 5 cheese...  changemyview   \n",
       "318299  How do you make lasagna with no meat? That’s n...  changemyview   \n",
       "318300  So like, this is false on it's face unless you...  changemyview   \n",
       "\n",
       "               author  \n",
       "0              dublea  \n",
       "1             Ansuz07  \n",
       "2          scott60561  \n",
       "3           SaxonySam  \n",
       "4            epmuscle  \n",
       "...               ...  \n",
       "318296    apotoftrees  \n",
       "318297         Dheorl  \n",
       "318298      Kingalece  \n",
       "318299    Cockwombles  \n",
       "318300  sailorbrendan  \n",
       "\n",
       "[301342 rows x 3 columns]"
      ]
     },
     "execution_count": 4,
     "metadata": {},
     "output_type": "execute_result"
    }
   ],
   "source": [
    "df.dropna()"
   ]
  },
  {
   "cell_type": "code",
   "execution_count": 5,
   "metadata": {},
   "outputs": [],
   "source": [
    "emoji_pattern = re.compile(\"[\"\n",
    "        u\"\\U0001F600-\\U0001F64F\"  # emoticons\n",
    "        u\"\\U0001F300-\\U0001F5FF\"  # symbols & pictographs\n",
    "        u\"\\U0001F680-\\U0001F6FF\"  # transport & map symbols\n",
    "        u\"\\U0001F1E0-\\U0001F1FF\"  # flags (iOS)\n",
    "                           \"]+\", flags=re.UNICODE)"
   ]
  },
  {
   "cell_type": "code",
   "execution_count": 6,
   "metadata": {},
   "outputs": [],
   "source": [
    "tknzr = TweetTokenizer()\n",
    "min_token_len = 10"
   ]
  },
  {
   "cell_type": "code",
   "execution_count": 9,
   "metadata": {},
   "outputs": [],
   "source": [
    "def regex(string):\n",
    "    ori = string\n",
    "    if string == '[removed]' or string == 'removed':\n",
    "        return None\n",
    "    if not string:\n",
    "        return None\n",
    "    try:\n",
    "        string = string.strip()\n",
    "        # remove emojis\n",
    "        string = emoji_pattern.sub(r'',string)\n",
    "        # remove urls\n",
    "        string = re.sub(r\"http\\S+\", \"\", string)\n",
    "        string = re.sub(r\"www\\S+\", \"\", string)\n",
    "\n",
    "        #remove sub-reddit and user flags\n",
    "        string = re.sub(r\"\\br/\", \"\",string)\n",
    "        string = re.sub(r\"\\bu/\", \"\",string)\n",
    "\n",
    "        # split according to some Engilish abbreviations\n",
    "        string = re.sub(r\"[^A-Za-z0-9(),!?\\'\\`]\", \" \", string)\n",
    "        string = re.sub(r\"\\'s\", \" 's\", string)\n",
    "        string = re.sub(r\"\\'ve\", \" 've\", string)\n",
    "        string = re.sub(r\"n\\'t\", \" n't\", string)\n",
    "        string = re.sub(r\"\\'re\", \" 're\", string)\n",
    "        string = re.sub(r\"\\'d\", \" 'd\", string)\n",
    "        string = re.sub(r\"\\'ll\", \" 'll\", string)\n",
    "        string = re.sub(r\",\", \" , \", string)\n",
    "        string = re.sub(r\"!\", \" ! \", string)\n",
    "        string = re.sub(r\"\\.\", \" \", string)\n",
    "        string = re.sub(r\"\\(\", \" ( \", string)\n",
    "        string = re.sub(r\"\\)\", \" ) \", string)\n",
    "        string = re.sub(r\"\\?\", \" ? \", string)\n",
    "        string = re.sub(r\"\\s{2,}\", \" \", string)\n",
    "        \n",
    "        tokens = tknzr.tokenize(string)\n",
    "        if len(tokens) < min_token_len:\n",
    "            return None\n",
    "        return string\n",
    "    except:\n",
    "        print(\"Exception occured\")\n",
    "        print(string)\n",
    "        return None"
   ]
  },
  {
   "cell_type": "code",
   "execution_count": 10,
   "metadata": {
    "scrolled": true
   },
   "outputs": [
    {
     "name": "stdout",
     "output_type": "stream",
     "text": [
      "Exception occured\n",
      "nan\n",
      "Exception occured\n",
      "nan\n",
      "Exception occured\n",
      "nan\n",
      "Exception occured\n",
      "nan\n",
      "Exception occured\n",
      "nan\n"
     ]
    }
   ],
   "source": [
    "df[\"body\"] = df[\"body\"].apply(regex)"
   ]
  },
  {
   "cell_type": "code",
   "execution_count": 11,
   "metadata": {},
   "outputs": [
    {
     "data": {
      "text/plain": [
       "(318301, 3)"
      ]
     },
     "execution_count": 11,
     "metadata": {},
     "output_type": "execute_result"
    }
   ],
   "source": [
    "df.shape"
   ]
  },
  {
   "cell_type": "code",
   "execution_count": 12,
   "metadata": {},
   "outputs": [
    {
     "name": "stdout",
     "output_type": "stream",
     "text": [
      "      body     subreddit        author\n",
      "5853  None  changemyview  Andreashofer\n"
     ]
    }
   ],
   "source": [
    "print(df.loc[[5853]])"
   ]
  },
  {
   "cell_type": "code",
   "execution_count": 13,
   "metadata": {},
   "outputs": [
    {
     "data": {
      "text/plain": [
       "(318301, 3)"
      ]
     },
     "execution_count": 13,
     "metadata": {},
     "output_type": "execute_result"
    }
   ],
   "source": [
    "df.shape"
   ]
  },
  {
   "cell_type": "code",
   "execution_count": 14,
   "metadata": {},
   "outputs": [],
   "source": [
    "def filter_empty(string):\n",
    "    \n",
    "    if not string:\n",
    "        return False\n",
    "    string = string.strip()\n",
    "    if string:\n",
    "        return True\n",
    "    else:\n",
    "        return False"
   ]
  },
  {
   "cell_type": "code",
   "execution_count": 15,
   "metadata": {},
   "outputs": [],
   "source": [
    "df = df[df['body'].apply(filter_empty)]"
   ]
  },
  {
   "cell_type": "code",
   "execution_count": 16,
   "metadata": {},
   "outputs": [
    {
     "data": {
      "text/plain": [
       "(253147, 3)"
      ]
     },
     "execution_count": 16,
     "metadata": {},
     "output_type": "execute_result"
    }
   ],
   "source": [
    "df.shape"
   ]
  },
  {
   "cell_type": "code",
   "execution_count": 17,
   "metadata": {},
   "outputs": [],
   "source": [
    "df.to_csv('after_regex_large.csv')"
   ]
  },
  {
   "cell_type": "code",
   "execution_count": 18,
   "metadata": {},
   "outputs": [
    {
     "data": {
      "text/plain": [
       "550"
      ]
     },
     "execution_count": 18,
     "metadata": {},
     "output_type": "execute_result"
    }
   ],
   "source": [
    "36299-35749 # empty string after filtering"
   ]
  },
  {
   "cell_type": "code",
   "execution_count": 49,
   "metadata": {
    "collapsed": true
   },
   "outputs": [
    {
     "data": {
      "text/plain": [
       "Index(['_replies', 'total_awards_received', 'approved_at_utc', 'ups',\n",
       "       'awarders', 'mod_reason_by', 'banned_by', 'author_flair_type',\n",
       "       'removal_reason', 'link_id', 'author_flair_template_id', 'likes',\n",
       "       'user_reports', 'saved', 'id', 'banned_at_utc', 'mod_reason_title',\n",
       "       'gilded', 'archived', 'no_follow', 'author', 'can_mod_post',\n",
       "       'send_replies', 'parent_id', 'score', 'author_fullname',\n",
       "       'report_reasons', 'approved_by', 'all_awardings', 'subreddit_id',\n",
       "       'body', 'edited', 'downs', 'author_flair_css_class', 'is_submitter',\n",
       "       'collapsed', 'author_flair_richtext', 'author_patreon_flair',\n",
       "       'body_html', 'gildings', 'collapsed_reason', 'associated_award',\n",
       "       'stickied', 'author_premium', 'subreddit_type', 'can_gild', 'subreddit',\n",
       "       'author_flair_text_color', 'score_hidden', 'permalink', 'num_reports',\n",
       "       'locked', 'name', 'created', 'author_flair_text', 'treatment_tags',\n",
       "       'created_utc', 'subreddit_name_prefixed', 'controversiality', 'depth',\n",
       "       'author_flair_background_color', 'collapsed_because_crowd_control',\n",
       "       'mod_reports', 'mod_note', 'distinguished', '_fetched',\n",
       "       'author_cakeday'],\n",
       "      dtype='object')"
      ]
     },
     "execution_count": 49,
     "metadata": {},
     "output_type": "execute_result"
    }
   ],
   "source": [
    "df.columns"
   ]
  },
  {
   "cell_type": "code",
   "execution_count": null,
   "metadata": {},
   "outputs": [],
   "source": []
  }
 ],
 "metadata": {
  "kernelspec": {
   "display_name": "Python 3",
   "language": "python",
   "name": "python3"
  },
  "language_info": {
   "codemirror_mode": {
    "name": "ipython",
    "version": 3
   },
   "file_extension": ".py",
   "mimetype": "text/x-python",
   "name": "python",
   "nbconvert_exporter": "python",
   "pygments_lexer": "ipython3",
   "version": "3.7.4"
  }
 },
 "nbformat": 4,
 "nbformat_minor": 2
}
